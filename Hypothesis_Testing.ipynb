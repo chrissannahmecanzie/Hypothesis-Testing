{
  "nbformat": 4,
  "nbformat_minor": 0,
  "metadata": {
    "colab": {
      "provenance": []
    },
    "kernelspec": {
      "name": "python3",
      "display_name": "Python 3"
    },
    "language_info": {
      "name": "python"
    }
  },
  "cells": [
    {
      "cell_type": "markdown",
      "source": [
        "Q1.Suppose a child psychologist claims that the average time working mothers spend talking to their children is at least 11 minutes per day. You conduct a random sample of 1000 working mothers and find they spend an average of 11.5 minutes per day talking with their children. Assume prior research suggests the population standard deviation is 2.3 minutes. Conduct a test with a level of significance of alpha = 0.05."
      ],
      "metadata": {
        "id": "bJWE0VnVl21T"
      }
    },
    {
      "cell_type": "code",
      "source": [
        "import numpy as np\n",
        "import scipy.stats as stats"
      ],
      "metadata": {
        "id": "Q9OX7u3ml4Mh"
      },
      "execution_count": null,
      "outputs": []
    },
    {
      "cell_type": "code",
      "source": [
        "population_mean=11\n",
        "sample_size=1000\n",
        "sample_mean=11.5\n",
        "population_standard_deviation=2.3\n",
        "alpha=0.05"
      ],
      "metadata": {
        "id": "WRtHBJlNq_3p"
      },
      "execution_count": null,
      "outputs": []
    },
    {
      "cell_type": "code",
      "source": [
        "z_score=(sample_mean-population_mean)/(population_standard_deviation/np.sqrt(sample_size))\n",
        "critical_value=stats.norm.ppf(1-alpha)\n"
      ],
      "metadata": {
        "id": "7wlXwd8ezZuY"
      },
      "execution_count": null,
      "outputs": []
    },
    {
      "cell_type": "code",
      "source": [
        "print(\"Z_score : \",z_score)\n",
        "print(\"Critical_value :\",critical_value)"
      ],
      "metadata": {
        "colab": {
          "base_uri": "https://localhost:8080/"
        },
        "id": "qVM6a5Kw0BWQ",
        "outputId": "8074af7e-a754-4022-e55b-b938e5ecb530"
      },
      "execution_count": null,
      "outputs": [
        {
          "output_type": "stream",
          "name": "stdout",
          "text": [
            "Z_score :  6.874516652539955\n",
            "Critical_value : 1.6448536269514722\n"
          ]
        }
      ]
    },
    {
      "cell_type": "code",
      "source": [
        "if z_score>critical_value:\n",
        "    print(\"Reject null hypothesis\")\n",
        "else:\n",
        "    print(\"Fail to reject null hypothesis\")"
      ],
      "metadata": {
        "colab": {
          "base_uri": "https://localhost:8080/"
        },
        "id": "uaHweO9t0QQL",
        "outputId": "af6212c2-7f84-40c8-d286-ee77ffe4cd81"
      },
      "execution_count": null,
      "outputs": [
        {
          "output_type": "stream",
          "name": "stdout",
          "text": [
            "Reject null hypothesis\n"
          ]
        }
      ]
    },
    {
      "cell_type": "markdown",
      "source": [
        "Q2. A coffee shop claims that their average wait time for customers is less than 5 minutes. To test this claim, a sample of 40 customers is taken, and their wait times are recorded. The sample mean wait time is found to be 4.6 minutes with a standard deviation of 0.8 minutes. Perform a hypothesis test at a significance level of 0.05 and determine whether there is enough evidence to support the coffee shop's claim."
      ],
      "metadata": {
        "id": "BkIXE_NL0SNt"
      }
    },
    {
      "cell_type": "code",
      "source": [
        "import numpy as np\n",
        "import scipy.stats as stats"
      ],
      "metadata": {
        "id": "cIsGjqyD0Xw4"
      },
      "execution_count": null,
      "outputs": []
    },
    {
      "cell_type": "code",
      "source": [
        "population_mean=5\n",
        "sample_mean=4.6\n",
        "population_standard_deviation=0.8\n",
        "alpha=0.05"
      ],
      "metadata": {
        "id": "zKA8rdQy0fZd"
      },
      "execution_count": null,
      "outputs": []
    },
    {
      "cell_type": "code",
      "source": [
        "t_score = (sample_mean-population_mean)/(population_standard_deviation/np.sqrt(sample_size))\n",
        "degree_freedom = sample_size-1\n",
        "critical_value = stats.t.ppf(1-alpha,degree_freedom)"
      ],
      "metadata": {
        "id": "jMQ3Qx0M0m2v"
      },
      "execution_count": null,
      "outputs": []
    },
    {
      "cell_type": "code",
      "source": [
        "print(\"t_score : \",t_score)\n",
        "print(\"Critical_value :\",critical_value)"
      ],
      "metadata": {
        "colab": {
          "base_uri": "https://localhost:8080/"
        },
        "id": "8Uxww1J4051h",
        "outputId": "1254a910-8fb5-460e-eba4-f9c13b1599a0"
      },
      "execution_count": null,
      "outputs": [
        {
          "output_type": "stream",
          "name": "stdout",
          "text": [
            "t_score :  -15.81138830084191\n",
            "Critical_value : 1.646380345427535\n"
          ]
        }
      ]
    },
    {
      "cell_type": "code",
      "source": [
        "p = stats.t.cdf(t_score, degree_freedom)\n",
        "pvalue = stats.t.sf(np.abs(t_score), degree_freedom)*2\n",
        "print(\"p is:\", p)\n",
        "print(\"pvalue is:\", pvalue)"
      ],
      "metadata": {
        "colab": {
          "base_uri": "https://localhost:8080/"
        },
        "id": "cOAkCvYQ098G",
        "outputId": "03fd4e69-a599-4f70-9376-d6a3055ad85c"
      },
      "execution_count": null,
      "outputs": [
        {
          "output_type": "stream",
          "name": "stdout",
          "text": [
            "p is: 9.968653028206216e-51\n",
            "pvalue is: 1.9937306056412432e-50\n"
          ]
        }
      ]
    },
    {
      "cell_type": "code",
      "source": [
        "if pvalue > 0.05:\n",
        " print('Fail To Reject null hypothesis')\n",
        "else:\n",
        " print('Reject null hypothesis ')"
      ],
      "metadata": {
        "id": "iFUUtffn1DD9",
        "outputId": "2c390135-7b65-4197-d2d3-63b230a6807b",
        "colab": {
          "base_uri": "https://localhost:8080/"
        }
      },
      "execution_count": null,
      "outputs": [
        {
          "output_type": "stream",
          "name": "stdout",
          "text": [
            "Reject null hypothesis \n"
          ]
        }
      ]
    }
  ]
}